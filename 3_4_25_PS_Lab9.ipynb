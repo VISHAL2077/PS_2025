{
  "nbformat": 4,
  "nbformat_minor": 0,
  "metadata": {
    "colab": {
      "provenance": [],
      "authorship_tag": "ABX9TyMIjrrx2fO8EP0mEL9mPvMa",
      "include_colab_link": true
    },
    "kernelspec": {
      "name": "python3",
      "display_name": "Python 3"
    },
    "language_info": {
      "name": "python"
    }
  },
  "cells": [
    {
      "cell_type": "markdown",
      "metadata": {
        "id": "view-in-github",
        "colab_type": "text"
      },
      "source": [
        "<a href=\"https://colab.research.google.com/github/VISHAL2077/PS_2025/blob/main/3_4_25_PS_Lab9.ipynb\" target=\"_parent\"><img src=\"https://colab.research.google.com/assets/colab-badge.svg\" alt=\"Open In Colab\"/></a>"
      ]
    },
    {
      "cell_type": "code",
      "execution_count": 1,
      "metadata": {
        "id": "l2zK2KEp0nSB"
      },
      "outputs": [],
      "source": [
        "import scipy.stats as stats"
      ]
    },
    {
      "cell_type": "code",
      "source": [
        "group_A_water = [2.8, 3.1, 3.0, 2.5, 3.2, 3.0, 3.3, 2.7, 2.9, 3.0]\n",
        "group_B_water = [1.5, 1.7, 1.6, 1.9, 2.0, 1.8, 1.7, 1.6, 1.8, 1.5]\n",
        "\n",
        "t_stat_water, p_value_water = stats.ttest_ind(group_A_water, group_B_water, equal_var=False)\n",
        "print(\"Water Intake Comparison:\")\n",
        "print(f\"T-statistic: {t_stat_water:.4f}, P-value: {p_value_water:.10f}\\n\")"
      ],
      "metadata": {
        "colab": {
          "base_uri": "https://localhost:8080/"
        },
        "id": "-e2aYbNR1KYD",
        "outputId": "8deefc93-37b3-4dda-d736-e816a7edb7ce"
      },
      "execution_count": 10,
      "outputs": [
        {
          "output_type": "stream",
          "name": "stdout",
          "text": [
            "Water Intake Comparison:\n",
            "T-statistic: 13.5474, P-value: 0.0000000003\n",
            "\n"
          ]
        }
      ]
    },
    {
      "cell_type": "code",
      "source": [
        "group_A_exercise = [7, 8, 6, 9, 10, 8, 7, 6, 8, 9]\n",
        "group_B_exercise = [3, 4, 2, 3, 5, 4, 3, 2, 4, 3]\n",
        "\n",
        "t_stat_exercise, p_value_exercise = stats.ttest_ind(group_A_exercise, group_B_exercise, equal_var=False)\n",
        "print(\"Exercise Hours Comparison:\")\n",
        "print(f\"T-statistic: {t_stat_exercise:.4f}, P-value: {p_value_exercise:.10f}\\n\")"
      ],
      "metadata": {
        "colab": {
          "base_uri": "https://localhost:8080/"
        },
        "id": "zQkVdwGa1Ham",
        "outputId": "9148673c-7cf6-409e-b31e-924f20ce414c"
      },
      "execution_count": 9,
      "outputs": [
        {
          "output_type": "stream",
          "name": "stdout",
          "text": [
            "Exercise Hours Comparison:\n",
            "T-statistic: 8.7692, P-value: 0.0000001386\n",
            "\n"
          ]
        }
      ]
    },
    {
      "cell_type": "code",
      "source": [
        "group_X_reading = [4, 5, 6, 3, 5, 6, 4, 5, 7, 6]\n",
        "group_Y_reading = [1, 2, 3, 2, 1, 4, 2, 1, 3, 2]\n",
        "\n",
        "t_stat_reading, p_value_reading = stats.ttest_ind(group_X_reading, group_Y_reading, equal_var=False)\n",
        "print(\"Reading Hours Comparison:\")\n",
        "print(f\"T-statistic: {t_stat_reading:.4f}, P-value: {p_value_reading:.10f}\")"
      ],
      "metadata": {
        "colab": {
          "base_uri": "https://localhost:8080/"
        },
        "id": "RfvshD1l1FP7",
        "outputId": "60760234-ccac-41e9-93ac-b170b3556459"
      },
      "execution_count": 8,
      "outputs": [
        {
          "output_type": "stream",
          "name": "stdout",
          "text": [
            "Reading Hours Comparison:\n",
            "T-statistic: 6.0956, P-value: 0.0000107060\n"
          ]
        }
      ]
    }
  ]
}