{
  "nbformat": 4,
  "nbformat_minor": 0,
  "metadata": {
    "colab": {
      "provenance": [],
      "authorship_tag": "ABX9TyMo4nCR5pTQ12LeS6AcV+Py",
      "include_colab_link": true
    },
    "kernelspec": {
      "name": "python3",
      "display_name": "Python 3"
    },
    "language_info": {
      "name": "python"
    }
  },
  "cells": [
    {
      "cell_type": "markdown",
      "metadata": {
        "id": "view-in-github",
        "colab_type": "text"
      },
      "source": [
        "<a href=\"https://colab.research.google.com/github/VISHAL2077/PS_2025/blob/main/20_3_2025_PS_Lab7.ipynb\" target=\"_parent\"><img src=\"https://colab.research.google.com/assets/colab-badge.svg\" alt=\"Open In Colab\"/></a>"
      ]
    },
    {
      "cell_type": "code",
      "execution_count": 2,
      "metadata": {
        "colab": {
          "base_uri": "https://localhost:8080/"
        },
        "id": "54it6ziXrvj2",
        "outputId": "5fe3d585-1c16-43ae-899e-8fa1217ad2dc"
      },
      "outputs": [
        {
          "output_type": "stream",
          "name": "stdout",
          "text": [
            "Sample Mean: 27466.666666666668\n",
            "Sample Standard Deviation: 3748.650550849059\n"
          ]
        }
      ],
      "source": [
        "import numpy as np\n",
        "\n",
        "data = [25000, 31000, 20000, 28000, 29500, 32000, 21000, 30500,\n",
        "        27000, 28500, 30000, 23000, 31000, 26000, 29500]\n",
        "\n",
        "sample_mean = np.mean(data)\n",
        "sample_std = np.std(data, ddof=1)\n",
        "\n",
        "print(f\"Sample Mean: {sample_mean}\")\n",
        "print(f\"Sample Standard Deviation: {sample_std}\")"
      ]
    },
    {
      "cell_type": "code",
      "source": [
        "import scipy.stats as stats\n",
        "\n",
        "n = len(data)\n",
        "alpha = 0.05\n",
        "t_critical = stats.t.ppf(1 - alpha/2, df=n-1)\n",
        "\n",
        "margin_of_error = float(t_critical * (sample_std / np.sqrt(n)))\n",
        "confidence_interval = (round(float(sample_mean - margin_of_error), 2), round(float(sample_mean + margin_of_error), 2))\n",
        "\n",
        "print(f\"95% Confidence Interval: {confidence_interval}\")"
      ],
      "metadata": {
        "colab": {
          "base_uri": "https://localhost:8080/"
        },
        "id": "rM5CSUfjtul5",
        "outputId": "b05605b7-ca17-4143-e901-b4a6c0193a5d"
      },
      "execution_count": 6,
      "outputs": [
        {
          "output_type": "stream",
          "name": "stdout",
          "text": [
            "95% Confidence Interval: (25390.73, 29542.6)\n"
          ]
        }
      ]
    },
    {
      "cell_type": "code",
      "source": [
        "claimed_mean = 30000\n",
        "\n",
        "if confidence_interval[0] <= claimed_mean <= confidence_interval[1]:\n",
        "    print(\"Fail to reject the null hypothesis: The average cost is not significantly different.\")\n",
        "else:\n",
        "    print(\"Reject the null hypothesis: The average cost is significantly different.\")"
      ],
      "metadata": {
        "colab": {
          "base_uri": "https://localhost:8080/"
        },
        "id": "bx7eMvz2t1mT",
        "outputId": "4d90994e-e56d-4e7a-8c01-fc01246339c0"
      },
      "execution_count": 4,
      "outputs": [
        {
          "output_type": "stream",
          "name": "stdout",
          "text": [
            "Reject the null hypothesis: The average cost is significantly different.\n"
          ]
        }
      ]
    }
  ]
}