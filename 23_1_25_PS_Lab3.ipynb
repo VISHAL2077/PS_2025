{
  "nbformat": 4,
  "nbformat_minor": 0,
  "metadata": {
    "colab": {
      "provenance": [],
      "authorship_tag": "ABX9TyNqHXWknYv90N6V7BA5HnbW",
      "include_colab_link": true
    },
    "kernelspec": {
      "name": "python3",
      "display_name": "Python 3"
    },
    "language_info": {
      "name": "python"
    }
  },
  "cells": [
    {
      "cell_type": "markdown",
      "metadata": {
        "id": "view-in-github",
        "colab_type": "text"
      },
      "source": [
        "<a href=\"https://colab.research.google.com/github/VISHAL2077/PS_2025/blob/main/23_1_25_PS_Lab3.ipynb\" target=\"_parent\"><img src=\"https://colab.research.google.com/assets/colab-badge.svg\" alt=\"Open In Colab\"/></a>"
      ]
    },
    {
      "cell_type": "code",
      "execution_count": 1,
      "metadata": {
        "colab": {
          "base_uri": "https://localhost:8080/"
        },
        "id": "uQ57ChH6jqnc",
        "outputId": "e3787e98-e516-4cf4-b9a3-416f478ba2a0"
      },
      "outputs": [
        {
          "output_type": "stream",
          "name": "stdout",
          "text": [
            "Question1-Solution\n",
            "Using NumPy:\n",
            "Median: 45.0\n",
            "Mode: 45\n",
            "Using Pandas:\n",
            "Mode: 45\n",
            "\n",
            "Question2-Solution\n",
            "Using NumPy:\n",
            "Median: 30.0\n",
            "Mode: 40\n",
            "Using Pandas:\n",
            "Mode: 40\n",
            "\n",
            "Question3-Solutions\n",
            "Median: 25.0\n",
            "Mode: 26.666666666666664\n"
          ]
        }
      ],
      "source": [
        "import numpy as np\n",
        "import pandas as pd\n",
        "\n",
        "Q1_data = [12, 45, 67, 23, 45, 89, 45, 12, 33, 67, 67, 78, 45, 23, 23, 56, 89, 45, 33, 45]\n",
        "median_numpy = np.median(Q1_data)\n",
        "unique_elements, counts = np.unique(Q1_data, return_counts=True)\n",
        "mode_numpy = unique_elements[np.argmax(counts)]\n",
        "#median_pandas = pd.Series(Q1_data).median()\n",
        "mode_pandas = pd.Series(Q1_data).mode()[0]\n",
        "print(\"Question1-Solution\")\n",
        "print(\"Using NumPy:\")\n",
        "print(f\"Median: {median_numpy}\")\n",
        "print(f\"Mode: {mode_numpy}\")\n",
        "print(\"Using Pandas:\")\n",
        "#print(f\"Median: {median_pandas}\")\n",
        "print(f\"Mode: {mode_pandas}\")\n",
        "\n",
        "scores = np.array([10, 20, 30, 40, 50])\n",
        "frequencies = np.array([5, 8, 12, 15, 7])\n",
        "Q2_data = np.repeat(scores, frequencies)\n",
        "median_numpy = np.median(Q2_data)\n",
        "unique_elements, counts = np.unique(Q2_data, return_counts=True)\n",
        "mode_numpy = unique_elements[np.argmax(counts)]\n",
        "#median_pandas = pd.Series(Q2_data).median()\n",
        "mode_pandas = pd.Series(Q2_data).mode()[0]\n",
        "print(\"\\nQuestion2-Solution\")\n",
        "print(\"Using NumPy:\")\n",
        "print(f\"Median: {median_numpy}\")\n",
        "print(f\"Mode: {mode_numpy}\")\n",
        "print(\"Using Pandas:\")\n",
        "#print(f\"Median: {median_pandas}\")\n",
        "print(f\"Mode: {mode_pandas}\")\n",
        "\n",
        "class_intervals = [(0, 10), (10, 20), (20, 30), (30, 40), (40, 50)]\n",
        "frequencies = [4, 6, 10, 8, 2]\n",
        "class_midpoints = [(interval[0] + interval[1]) / 2 for interval in class_intervals]\n",
        "N = sum(frequencies)\n",
        "cumulative_frequencies = np.cumsum(frequencies)\n",
        "median_class_index = next(i for i, cf in enumerate(cumulative_frequencies) if cf >= N / 2)\n",
        "L = class_intervals[median_class_index][0]\n",
        "F = cumulative_frequencies[median_class_index - 1] if median_class_index > 0 else 0\n",
        "f = frequencies[median_class_index]\n",
        "h = class_intervals[median_class_index][1] - class_intervals[median_class_index][0]\n",
        "# Calculate median\n",
        "median = L + ((N / 2 - F) / f) * h\n",
        "modal_class_index = np.argmax(frequencies)\n",
        "L_mode = class_intervals[modal_class_index][0]\n",
        "f1 = frequencies[modal_class_index]\n",
        "f0 = frequencies[modal_class_index - 1] if modal_class_index > 0 else 0\n",
        "f2 = frequencies[modal_class_index + 1] if modal_class_index < len(frequencies) - 1 else 0\n",
        "# Calculate mode\n",
        "mode = L_mode + ((f1 - f0) / (2 * f1 - f0 - f2)) * h\n",
        "print(\"\\nQuestion3-Solutions\")\n",
        "print(f\"Median: {median}\")\n",
        "print(f\"Mode: {mode}\")"
      ]
    }
  ]
}