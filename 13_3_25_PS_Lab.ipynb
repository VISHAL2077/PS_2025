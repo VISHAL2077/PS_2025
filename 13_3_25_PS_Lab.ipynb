{
  "nbformat": 4,
  "nbformat_minor": 0,
  "metadata": {
    "colab": {
      "provenance": [],
      "authorship_tag": "ABX9TyMIASfX7zYQQ8Lb/PNRjXds",
      "include_colab_link": true
    },
    "kernelspec": {
      "name": "python3",
      "display_name": "Python 3"
    },
    "language_info": {
      "name": "python"
    }
  },
  "cells": [
    {
      "cell_type": "markdown",
      "metadata": {
        "id": "view-in-github",
        "colab_type": "text"
      },
      "source": [
        "<a href=\"https://colab.research.google.com/github/VISHAL2077/PS_2025/blob/main/13_3_25_PS_Lab.ipynb\" target=\"_parent\"><img src=\"https://colab.research.google.com/assets/colab-badge.svg\" alt=\"Open In Colab\"/></a>"
      ]
    },
    {
      "cell_type": "code",
      "source": [
        "class_intervals = [\"0-10\", \"10-20\", \"20-30\", \"30-40\", \"40-50\"]\n",
        "frequencies = [2, 12, 22, 8, 6]\n",
        "N = sum(frequencies)\n",
        "\n",
        "cumulative_freq = []\n",
        "cumsum = 0\n",
        "for f in frequencies:\n",
        "    cumsum += f\n",
        "    cumulative_freq.append(cumsum)\n",
        "\n",
        "median_index = N // 2\n",
        "median_class_index = 0\n",
        "for i in range(len(cumulative_freq)):\n",
        "    if cumulative_freq[i] >= median_index:\n",
        "        median_class_index = i\n",
        "        break\n",
        "\n",
        "L = int(class_intervals[median_class_index].split('-')[0])\n",
        "CF = cumulative_freq[median_class_index - 1] if median_class_index > 0 else 0\n",
        "f = frequencies[median_class_index]\n",
        "h = int(class_intervals[0].split('-')[1]) - int(class_intervals[0].split('-')[0])\n",
        "\n",
        "median = L + ((N / 2 - CF) / f) * h\n",
        "\n",
        "print(\"Median:\", median)"
      ],
      "metadata": {
        "colab": {
          "base_uri": "https://localhost:8080/"
        },
        "id": "mVTF3RCG6-nH",
        "outputId": "63105b0a-1300-4095-dbd6-ae217f0bafae"
      },
      "execution_count": 13,
      "outputs": [
        {
          "output_type": "stream",
          "name": "stdout",
          "text": [
            "Median: 25.0\n"
          ]
        }
      ]
    },
    {
      "cell_type": "code",
      "source": [
        "class_intervals = [\"0-20\", \"20-40\", \"40-60\", \"60-80\", \"80-100\"]\n",
        "frequencies = [5, 10, 12, 6, 3]\n",
        "h = int(class_intervals[0].split('-')[1]) - int(class_intervals[0].split('-')[0])\n",
        "\n",
        "modal_class_index = 0\n",
        "max_freq = frequencies[0]\n",
        "for i in range(1, len(frequencies)):\n",
        "    if frequencies[i] > max_freq:\n",
        "        max_freq = frequencies[i]\n",
        "        modal_class_index = i\n",
        "\n",
        "L_mode = int(class_intervals[modal_class_index].split('-')[0])\n",
        "f1 = frequencies[modal_class_index]\n",
        "f0 = frequencies[modal_class_index - 1] if modal_class_index > 0 else 0\n",
        "f2 = frequencies[modal_class_index + 1] if modal_class_index < len(frequencies) - 1 else 0\n",
        "\n",
        "mode = L_mode + ((f1 - f0) / ((2 * f1) - f0 - f2)) * h\n",
        "\n",
        "print(\"Mode:\", mode)"
      ],
      "metadata": {
        "colab": {
          "base_uri": "https://localhost:8080/"
        },
        "id": "4EHriVG67C4q",
        "outputId": "c8ffd772-5d17-4003-93f2-5600904f906a"
      },
      "execution_count": 14,
      "outputs": [
        {
          "output_type": "stream",
          "name": "stdout",
          "text": [
            "Mode: 45.0\n"
          ]
        }
      ]
    },
    {
      "cell_type": "code",
      "source": [
        "import pandas as pd\n",
        "\n",
        "class_intervals = [\"4-8\", \"8-12\", \"12-16\", \"16-20\"]\n",
        "mid_values = [6, 10, 14, 18]\n",
        "frequencies = [3, 6, 4, 7]\n",
        "\n",
        "fx = [f * x for f, x in zip(frequencies, mid_values)]\n",
        "sum_fx = sum(fx)\n",
        "N = sum(frequencies)\n",
        "\n",
        "mean = sum_fx / N\n",
        "\n",
        "x_minus_mean_sq = [(x - mean) ** 2 for x in mid_values]\n",
        "\n",
        "fi_x_minus_mean_sq = [f * x_sq for f, x_sq in zip(frequencies, x_minus_mean_sq)]\n",
        "sum_fi_x_minus_mean_sq = sum(fi_x_minus_mean_sq)\n",
        "\n",
        "variance = sum_fi_x_minus_mean_sq / N\n",
        "\n",
        "data = {\n",
        "    \"CI\": class_intervals,\n",
        "    \"Xi\": mid_values,\n",
        "    \"Fi\": frequencies,\n",
        "    \"FiXi\": fx,\n",
        "    \"(X-μ)²\": x_minus_mean_sq,\n",
        "    \"F*(X -μ)²\": fi_x_minus_mean_sq\n",
        "}\n",
        "\n",
        "df = pd.DataFrame(data)\n",
        "\n",
        "print(df)\n",
        "print(\"\\nArithmetic Mean (μ) = Σ FiXi / N = \", mean)\n",
        "print(\"Variance (σ²) = Σ Fi(Xi-μ) / N = \", variance)\n"
      ],
      "metadata": {
        "colab": {
          "base_uri": "https://localhost:8080/"
        },
        "id": "79OOx1HW2iZI",
        "outputId": "45b30e4a-1077-4a69-d39b-773c154f2269"
      },
      "execution_count": 12,
      "outputs": [
        {
          "output_type": "stream",
          "name": "stdout",
          "text": [
            "      CI  Xi  Fi  FiXi  (X-μ)²  F*(X -μ)²\n",
            "0    4-8   6   3    18    49.0      147.0\n",
            "1   8-12  10   6    60     9.0       54.0\n",
            "2  12-16  14   4    56     1.0        4.0\n",
            "3  16-20  18   7   126    25.0      175.0\n",
            "\n",
            "Arithmetic Mean (μ) = Σ FiXi / N =  13.0\n",
            "Variance (σ²) = Σ Fi(Xi-μ) / N =  19.0\n"
          ]
        }
      ]
    }
  ]
}